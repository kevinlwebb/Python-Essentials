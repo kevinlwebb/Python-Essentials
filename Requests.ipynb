{
 "cells": [
  {
   "cell_type": "markdown",
   "metadata": {},
   "source": [
    "# Requests Basics\n",
    "\n",
    "A very thorough tutorial can be found here:\n",
    "<br>https://realpython.com/python-requests/\n",
    "\n",
    "This personal guide is to expand on lesser known topics that come in handy."
   ]
  },
  {
   "cell_type": "code",
   "execution_count": 2,
   "metadata": {},
   "outputs": [],
   "source": [
    "import requests"
   ]
  },
  {
   "cell_type": "code",
   "execution_count": 3,
   "metadata": {},
   "outputs": [],
   "source": [
    "req = requests.get('http://cat-fact.herokuapp.com/facts')"
   ]
  },
  {
   "cell_type": "code",
   "execution_count": 4,
   "metadata": {},
   "outputs": [
    {
     "name": "stdout",
     "output_type": "stream",
     "text": [
      "utf-8\n",
      "200\n",
      "0:00:00.233148\n",
      "http://cat-fact.herokuapp.com/facts\n",
      "[]\n",
      "application/json; charset=utf-8\n"
     ]
    }
   ],
   "source": [
    "print(req.encoding)\n",
    "print(req.status_code)\n",
    "print(req.elapsed)\n",
    "print(req.url)\n",
    "print(req.history )\n",
    "print(req.headers['Content-Type'])"
   ]
  },
  {
   "cell_type": "code",
   "execution_count": 5,
   "metadata": {},
   "outputs": [
    {
     "data": {
      "text/plain": [
       "{'_id': '58e008ad0aac31001185ed0c',\n",
       " 'text': \"The frequency of a domestic cat's purr is the same at which muscles and bones repair themselves.\",\n",
       " 'type': 'cat',\n",
       " 'user': {'_id': '58e007480aac31001185ecef',\n",
       "  'name': {'first': 'Kasimir', 'last': 'Schulz'}},\n",
       " 'upvotes': 7,\n",
       " 'userUpvoted': None}"
      ]
     },
     "execution_count": 5,
     "metadata": {},
     "output_type": "execute_result"
    }
   ],
   "source": [
    "# Three methods of extracting the information from the request\n",
    "\n",
    "# req.content\n",
    "# req.text\n",
    "# req.json()\n",
    "\n",
    "req.json()[\"all\"][0]"
   ]
  },
  {
   "cell_type": "markdown",
   "metadata": {},
   "source": [
    "## Passing in Parameters"
   ]
  },
  {
   "cell_type": "code",
   "execution_count": 6,
   "metadata": {},
   "outputs": [],
   "source": [
    "response = requests.get(\n",
    "    'https://api.jikan.moe/v3/search/anime',\n",
    "    params={'q': 'naruto', 'limit':16},\n",
    ")"
   ]
  },
  {
   "cell_type": "code",
   "execution_count": 7,
   "metadata": {},
   "outputs": [
    {
     "name": "stdout",
     "output_type": "stream",
     "text": [
      "Naruto\n",
      "Naruto: Shippuuden\n",
      "The Last: Naruto the Movie\n",
      "Naruto: Shippuuden Movie 1\n",
      "Boruto: Naruto the Movie\n",
      "Naruto x UT\n",
      "Naruto: Shippuuden - Shippuu! \"Konoha Gakuen\" Den\n",
      "Naruto: Shippuuden Movie 2 - Kizuna\n",
      "Naruto: Shippuuden Movie 4 - The Lost Tower\n",
      "Naruto: Shippuuden Movie 6 - Road to Ninja\n",
      "Boruto: Naruto Next Generations\n",
      "Naruto: Shippuuden - Sunny Side Battle\n",
      "Naruto SD: Rock Lee no Seishun Full-Power Ninden\n",
      "Naruto: Shippuuden Movie 5 - Blood Prison\n",
      "Naruto Movie 1: Dai Katsugeki!! Yuki Hime Shinobu Houjou Dattebayo!\n",
      "Boruto: Naruto the Movie - Naruto ga Hokage ni Natta Hi\n"
     ]
    }
   ],
   "source": [
    "for result in response.json()[\"results\"]:\n",
    "    print(result['title'])"
   ]
  },
  {
   "cell_type": "code",
   "execution_count": 8,
   "metadata": {},
   "outputs": [],
   "source": [
    "response = requests.get(\n",
    "    'https://api.jikan.moe/v3/search/anime',\n",
    "    params={'q': 'one piece', 'limit':16},\n",
    ")"
   ]
  },
  {
   "cell_type": "code",
   "execution_count": 9,
   "metadata": {},
   "outputs": [
    {
     "name": "stdout",
     "output_type": "stream",
     "text": [
      "One Piece\n",
      "One Piece Film: Gold\n",
      "One Piece Movie 1\n",
      "One Piece Film: Z\n",
      "One Piece 3D: Mugiwara Chase\n",
      "One Piece: Episode of Sorajima\n",
      "One Piece Movie 14: Stampede\n",
      "One Piece 3D: Gekisou! Trap Coaster\n",
      "Scratch x One Piece Film: Gold\n",
      "One Piece: Romance Dawn Story\n",
      "One Piece Movie 9: Episode of Chopper Plus - Fuyu ni Saku, Kiseki no Sakura\n",
      "One Piece Film: Strong World\n",
      "One Piece Movie 4: Dead End no Bouken\n",
      "One Piece Recap\n",
      "One Piece: Kinkyuu Kikaku One Piece Kanzen Kouryakuhou\n",
      "One Piece Film: Gold - Cine Mike Popcorn Kokuchi\n"
     ]
    }
   ],
   "source": [
    "for result in response.json()[\"results\"]:\n",
    "    print(result['title'])"
   ]
  }
 ],
 "metadata": {
  "kernelspec": {
   "display_name": "Python 3",
   "language": "python",
   "name": "python3"
  },
  "language_info": {
   "codemirror_mode": {
    "name": "ipython",
    "version": 3
   },
   "file_extension": ".py",
   "mimetype": "text/x-python",
   "name": "python",
   "nbconvert_exporter": "python",
   "pygments_lexer": "ipython3",
   "version": "3.7.6"
  }
 },
 "nbformat": 4,
 "nbformat_minor": 4
}
