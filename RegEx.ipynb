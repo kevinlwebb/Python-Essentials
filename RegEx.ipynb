{
 "cells": [
  {
   "cell_type": "markdown",
   "metadata": {},
   "source": [
    "# RegEx Basics\n",
    "\n",
    "A RegEx, or Regular Expression, is a sequence of characters that forms a search pattern.\n",
    "\n",
    "RegEx can be used to check if a string contains the specified search pattern.\n",
    "\n",
    "A python based tutorial can be found here:\n",
    "<br>https://www.w3schools.com/python/python_regex.asp\n",
    "\n",
    "This personal guide is to expand on lesser known topics that come in handy and show examples."
   ]
  },
  {
   "cell_type": "markdown",
   "metadata": {},
   "source": [
    "## Metacharacters\n",
    "Metacharacters are characters with a special meaning:\n",
    "\n",
    "|Character|Description|Example|\n",
    "|------|------|------|\n",
    "| [ ] | A set of characters | \"[a-m]\" |\n",
    "| \\\t| Signals a special sequence (can also be used to escape special characters) | \"\\d\"|\n",
    "| .\t| Any character (except newline character) | \"he..o\" |\n",
    "| ^\t| Starts with | \"^hello\"|\n",
    "| \\$\t| Ends with | \"world$\"|\n",
    "| *\t| Zero or more occurrences | \"aix*\"|\n",
    "| +\t| One or more occurrences | \"aix+\"|\n",
    "| {}\t| Exactly the specified number of occurrences | \"al{2}\"|\n",
    "| \\|\t| Either or\t|\"falls\\|stays\"|\n",
    "| () | Capture and group|"
   ]
  },
  {
   "cell_type": "code",
   "execution_count": 1,
   "metadata": {},
   "outputs": [],
   "source": [
    "import re"
   ]
  },
  {
   "cell_type": "code",
   "execution_count": 2,
   "metadata": {},
   "outputs": [],
   "source": [
    "def regExMatch(txt, expression):\n",
    "    x = re.findall(expression, txt)\n",
    "    if len(x) == 1 and len(x[0]) == len(txt):\n",
    "        print(\"Yes, it's an absolute match\")\n",
    "        print(x)\n",
    "    elif len(x) == 1 and type(x[0]) == tuple:\n",
    "        print(\"Yes, it's an absolute match with repeating characters\")\n",
    "        print(x)\n",
    "    elif len(x) == 1:\n",
    "        print(\"Yes, it's a partial match\")\n",
    "        print(x)\n",
    "    elif x:\n",
    "        print(\"Yes, it has multiple matches\")\n",
    "        print(x)\n",
    "    else:\n",
    "        print(\"No match\")"
   ]
  },
  {
   "cell_type": "code",
   "execution_count": 3,
   "metadata": {},
   "outputs": [
    {
     "name": "stdout",
     "output_type": "stream",
     "text": [
      "Yes, it has multiple matches\n",
      "['!', '!']\n",
      "Yes, it has multiple matches\n",
      "[' ', ' ', ' ', ' ', '!']\n",
      "Yes, it has multiple matches\n",
      "['@', '.']\n",
      "No match\n"
     ]
    }
   ],
   "source": [
    "txt_list = [\"!0212!\",\n",
    "            \"Hi nice to meet you!\",\n",
    "            \"email@gmail.com\",\n",
    "            \"wow\"]\n",
    "for txt in txt_list:\n",
    "    regExMatch(txt, \"[^a-zA-Z0-9_]\")"
   ]
  },
  {
   "cell_type": "code",
   "execution_count": 4,
   "metadata": {},
   "outputs": [
    {
     "name": "stdout",
     "output_type": "stream",
     "text": [
      "Yes, it's an absolute match\n",
      "['!0212!']\n",
      "Yes, it has multiple matches\n",
      "[' ', ' ', ' ', ' ', '!']\n",
      "Yes, it has multiple matches\n",
      "['@', '.']\n",
      "No match\n"
     ]
    }
   ],
   "source": [
    "txt_list = [\"!0212!\",\n",
    "            \"Hi nice to meet you!\",\n",
    "            \"email@gmail.com\",\n",
    "            \"wow\"]\n",
    "for txt in txt_list:\n",
    "    regExMatch(txt, \"[^a-zA-Z]+\")"
   ]
  },
  {
   "cell_type": "code",
   "execution_count": 5,
   "metadata": {},
   "outputs": [
    {
     "name": "stdout",
     "output_type": "stream",
     "text": [
      "No match\n",
      "No match\n",
      "Yes, it has multiple matches\n",
      "['', '']\n",
      "Yes, it's a partial match\n",
      "['ab']\n"
     ]
    }
   ],
   "source": [
    "txt_list = [\"aba\", \"abababa\", \"aabbaa\", \"aabababa\"]\n",
    "for txt in txt_list:\n",
    "    regExMatch(txt, \"a(ab)*a\")"
   ]
  },
  {
   "cell_type": "code",
   "execution_count": 6,
   "metadata": {},
   "outputs": [
    {
     "name": "stdout",
     "output_type": "stream",
     "text": [
      "Yes, it's an absolute match\n",
      "['abc']\n"
     ]
    }
   ],
   "source": [
    "txt = \"abc\"\n",
    "#x = re.findall(\"ab+c\", txt)\n",
    "regExMatch(txt, \"ab+c\")"
   ]
  },
  {
   "cell_type": "code",
   "execution_count": 7,
   "metadata": {},
   "outputs": [
    {
     "name": "stdout",
     "output_type": "stream",
     "text": [
      "Yes, it's an absolute match\n",
      "['azbcbc']\n",
      "Yes, it's a partial match\n",
      "['a b']\n",
      "Yes, it's an absolute match\n",
      "['a2bbbb']\n"
     ]
    }
   ],
   "source": [
    "txt_list = [\"azbcbc\",\n",
    "           \"a bd\",\n",
    "           \"a2bbbb\"]\n",
    "for txt in txt_list:\n",
    "    regExMatch(txt, \"a.[bc]+\")"
   ]
  },
  {
   "cell_type": "code",
   "execution_count": 8,
   "metadata": {},
   "outputs": [
    {
     "name": "stdout",
     "output_type": "stream",
     "text": [
      "Yes, it's a partial match\n",
      "['abc']\n",
      "Yes, it has multiple matches\n",
      "['abc', 'xyz']\n"
     ]
    }
   ],
   "source": [
    "txt = \"abcxyz\"\n",
    "regExMatch(txt, \"a.[bc]+\")\n",
    "regExMatch(txt, \"abc|xyz\",)"
   ]
  },
  {
   "cell_type": "code",
   "execution_count": 9,
   "metadata": {},
   "outputs": [
    {
     "name": "stdout",
     "output_type": "stream",
     "text": [
      "Yes, it's an absolute match\n",
      "['Butt=']\n"
     ]
    }
   ],
   "source": [
    "txt = \"Butt=\"\n",
    "regExMatch(txt, \"[a-zA-z]*[^,]=\")"
   ]
  },
  {
   "cell_type": "code",
   "execution_count": 10,
   "metadata": {},
   "outputs": [
    {
     "name": "stdout",
     "output_type": "stream",
     "text": [
      "No match\n",
      "No match\n",
      "No match\n",
      "Yes, it's an absolute match with repeating characters\n",
      "[('very ', 'fat ', 'ugly')]\n"
     ]
    }
   ],
   "source": [
    "txt_list = [\"very fat monster\", \n",
    "            \"fat tall monster\", \n",
    "            \"very fat fat tall monster\", \n",
    "            \"very very fat ugly monster\"]\n",
    "for txt in txt_list:\n",
    "    regExMatch(txt, \"(very )+(fat )?(tall|ugly) monster\")"
   ]
  },
  {
   "cell_type": "code",
   "execution_count": 11,
   "metadata": {},
   "outputs": [
    {
     "name": "stdout",
     "output_type": "stream",
     "text": [
      "No match\n",
      "Yes, it has multiple matches\n",
      "['<opentag>', '<closetag>']\n"
     ]
    }
   ],
   "source": [
    "txt_list = [\"an xml tag>\", \n",
    "            \"<opentag><closetag>\"]\n",
    "for txt in txt_list:\n",
    "    regExMatch(txt, \"<[^>]+>\")"
   ]
  },
  {
   "cell_type": "code",
   "execution_count": 12,
   "metadata": {},
   "outputs": [
    {
     "name": "stdout",
     "output_type": "stream",
     "text": [
      "No match\n",
      "No match\n",
      "Yes, it's an absolute match with repeating characters\n",
      "[('99', '99')]\n"
     ]
    }
   ],
   "source": [
    "txt_list = [\"foo=99andfoo\",\n",
    "           \"foo=99and99\",\n",
    "           \"99=99and\\1\"]\n",
    "for txt in txt_list:\n",
    "    regExMatch(txt, \"(\\w+)=(\\d+)and\\1\")"
   ]
  },
  {
   "cell_type": "code",
   "execution_count": 13,
   "metadata": {},
   "outputs": [
    {
     "name": "stdout",
     "output_type": "stream",
     "text": [
      "Yes, it's an absolute match\n",
      "['11wally99']\n",
      "Yes, it's a partial match\n",
      "['roger123']\n",
      "Yes, it's an absolute match\n",
      "['yoyoma 23456']\n",
      "No match\n"
     ]
    }
   ],
   "source": [
    "txt_list = [\"11wally99\",\n",
    "           \"&roger123\",\n",
    "           \"yoyoma 23456\",\n",
    "           \"mello drama\" ]\n",
    "for txt in txt_list:\n",
    "    regExMatch(txt, \"\\w+\\s*\\d+\")"
   ]
  },
  {
   "cell_type": "code",
   "execution_count": 14,
   "metadata": {},
   "outputs": [
    {
     "name": "stdout",
     "output_type": "stream",
     "text": [
      "Yes, it's a partial match\n",
      "['11wally']\n",
      "Yes, it's a partial match\n",
      "['roger']\n",
      "Yes, it's a partial match\n",
      "['yoyoma ']\n",
      "Yes, it's an absolute match\n",
      "['mello drama']\n"
     ]
    }
   ],
   "source": [
    "txt_list = [\"11wally99\",\n",
    "           \"&roger123\",\n",
    "           \"yoyoma 23456\",\n",
    "           \"mello drama\" ]\n",
    "for txt in txt_list:\n",
    "    regExMatch(txt, \"\\w+\\s*\\D+\")"
   ]
  }
 ],
 "metadata": {
  "kernelspec": {
   "display_name": "Python 3",
   "language": "python",
   "name": "python3"
  },
  "language_info": {
   "codemirror_mode": {
    "name": "ipython",
    "version": 3
   },
   "file_extension": ".py",
   "mimetype": "text/x-python",
   "name": "python",
   "nbconvert_exporter": "python",
   "pygments_lexer": "ipython3",
   "version": "3.7.6"
  }
 },
 "nbformat": 4,
 "nbformat_minor": 4
}
