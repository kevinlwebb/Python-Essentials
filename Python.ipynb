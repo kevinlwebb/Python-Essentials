{
 "cells": [
  {
   "cell_type": "markdown",
   "metadata": {},
   "source": [
    "# Python Basics\n",
    "\n",
    "Most of the basics can be found here:\n",
    "<br>https://www.w3schools.com/python/default.asp\n",
    "\n",
    "This personal guide is to expand on lesser known topics that come in handy."
   ]
  },
  {
   "cell_type": "markdown",
   "metadata": {},
   "source": [
    "## Bit manipulation / Binary manipulation"
   ]
  },
  {
   "cell_type": "code",
   "execution_count": 1,
   "metadata": {},
   "outputs": [
    {
     "data": {
      "text/plain": [
       "33"
      ]
     },
     "execution_count": 1,
     "metadata": {},
     "output_type": "execute_result"
    }
   ],
   "source": [
    "binary_value = '00100001'\n",
    "int(binary_value, 2)"
   ]
  },
  {
   "cell_type": "code",
   "execution_count": 2,
   "metadata": {},
   "outputs": [
    {
     "name": "stdout",
     "output_type": "stream",
     "text": [
      "1\n",
      "2\n",
      "4\n"
     ]
    }
   ],
   "source": [
    "print(1 << 0)  # 001\n",
    "print(1 << 1)  # 010\n",
    "print(1 << 2)  # 100"
   ]
  },
  {
   "cell_type": "code",
   "execution_count": 3,
   "metadata": {},
   "outputs": [
    {
     "data": {
      "text/plain": [
       "32"
      ]
     },
     "execution_count": 3,
     "metadata": {},
     "output_type": "execute_result"
    }
   ],
   "source": [
    "4<<3"
   ]
  },
  {
   "cell_type": "code",
   "execution_count": 4,
   "metadata": {},
   "outputs": [
    {
     "data": {
      "text/plain": [
       "32"
      ]
     },
     "execution_count": 4,
     "metadata": {},
     "output_type": "execute_result"
    }
   ],
   "source": [
    "4*pow(2,3)"
   ]
  },
  {
   "cell_type": "markdown",
   "metadata": {},
   "source": [
    "The concept of shifting can be represented by the following equation:\n",
    "\n",
    "\\begin{align}\n",
    "x * (2^y)\n",
    "\\end{align}"
   ]
  },
  {
   "cell_type": "markdown",
   "metadata": {},
   "source": [
    "## String Manipulation"
   ]
  },
  {
   "cell_type": "code",
   "execution_count": 1,
   "metadata": {},
   "outputs": [
    {
     "name": "stdout",
     "output_type": "stream",
     "text": [
      "3\n"
     ]
    }
   ],
   "source": [
    "words = \"Hello World\"\n",
    "print(words.count('l'))"
   ]
  },
  {
   "cell_type": "code",
   "execution_count": 3,
   "metadata": {},
   "outputs": [
    {
     "name": "stdout",
     "output_type": "stream",
     "text": [
      "Hel\n",
      "Hel\n",
      "rld\n",
      "lo World\n",
      "Hello Wo\n"
     ]
    }
   ],
   "source": [
    "print(words[0:3])   #get the first three char\n",
    "print(words[:3])    #get the first three char\n",
    "print(words[-3:])   #get the last three char\n",
    "print(words[3:])    #get all but the three first char\n",
    "print(words[:-3])   #get all but the three last character"
   ]
  },
  {
   "cell_type": "code",
   "execution_count": 4,
   "metadata": {},
   "outputs": [
    {
     "data": {
      "text/plain": [
       "['Hello', 'World']"
      ]
     },
     "execution_count": 4,
     "metadata": {},
     "output_type": "execute_result"
    }
   ],
   "source": [
    "words.split(' ') "
   ]
  },
  {
   "cell_type": "code",
   "execution_count": 8,
   "metadata": {},
   "outputs": [
    {
     "data": {
      "text/plain": [
       "'..........'"
      ]
     },
     "execution_count": 8,
     "metadata": {},
     "output_type": "execute_result"
    }
   ],
   "source": [
    "\".\"* 10"
   ]
  },
  {
   "cell_type": "code",
   "execution_count": 7,
   "metadata": {},
   "outputs": [
    {
     "data": {
      "text/plain": [
       "'dlroW olleH'"
      ]
     },
     "execution_count": 7,
     "metadata": {},
     "output_type": "execute_result"
    }
   ],
   "source": [
    "''.join(reversed(words))"
   ]
  },
  {
   "cell_type": "code",
   "execution_count": 12,
   "metadata": {},
   "outputs": [
    {
     "data": {
      "text/plain": [
       "'Hi'"
      ]
     },
     "execution_count": 12,
     "metadata": {},
     "output_type": "execute_result"
    }
   ],
   "source": [
    "\"  Hi  \".strip()"
   ]
  },
  {
   "cell_type": "markdown",
   "metadata": {},
   "source": [
    "## Enumerate"
   ]
  },
  {
   "cell_type": "code",
   "execution_count": 5,
   "metadata": {},
   "outputs": [
    {
     "name": "stdout",
     "output_type": "stream",
     "text": [
      "0 Test1\n",
      "1 Test2\n",
      "2 Test3\n"
     ]
    }
   ],
   "source": [
    "test_list = [\"Test1\", \"Test2\", \"Test3\"]\n",
    "\n",
    "for index, item in enumerate(test_list):\n",
    "    print(index, item)"
   ]
  },
  {
   "cell_type": "markdown",
   "metadata": {},
   "source": [
    "## Dictionary"
   ]
  },
  {
   "cell_type": "code",
   "execution_count": 6,
   "metadata": {},
   "outputs": [
    {
     "name": "stdout",
     "output_type": "stream",
     "text": [
      "key1 item1\n",
      "key2 item2\n"
     ]
    }
   ],
   "source": [
    "test_dict = {\"key1\":\"item1\",\"key2\":\"item2\"}\n",
    "\n",
    "for key, item in test_dict.items():\n",
    "    print(key, item)"
   ]
  },
  {
   "cell_type": "markdown",
   "metadata": {},
   "source": [
    "## Counter"
   ]
  },
  {
   "cell_type": "code",
   "execution_count": 7,
   "metadata": {},
   "outputs": [
    {
     "name": "stdout",
     "output_type": "stream",
     "text": [
      "Counter()\n",
      "Counter({'a': 2, 'b': 1})\n",
      "Counter({'b': 3, 'a': 2, 'c': 1})\n",
      "Counter({'a': 1, 'b': 1, 'c': 1})\n",
      "0\n",
      "Counter({'a': 1, 'b': 1, 'c': 1, 'Unicorn': 1})\n",
      "Counter({'a': 1, 'b': 1, 'c': 1})\n"
     ]
    }
   ],
   "source": [
    "from collections import Counter\n",
    "\n",
    "# empty Counter\n",
    "counter = Counter()\n",
    "print(counter)\n",
    "\n",
    "# Counter with initial values\n",
    "counter = Counter(['a', 'a', 'b'])\n",
    "print(counter)\n",
    "\n",
    "counter = Counter(a=2, b=3, c=1)\n",
    "print(counter)\n",
    "\n",
    "# Iterable as argument for Counter\n",
    "counter = Counter('abc')\n",
    "print(counter)\n",
    "\n",
    "# getting count for non existing key, don't cause KeyError\n",
    "print(counter['Unicorn'])\n",
    "\n",
    "# setting count for non-existing key, adds to Counter\n",
    "counter['Unicorn'] += 1\n",
    "print(counter)\n",
    "\n",
    "# Delete element from Counter\n",
    "del counter['Unicorn']\n",
    "print(counter)"
   ]
  },
  {
   "cell_type": "code",
   "execution_count": 8,
   "metadata": {},
   "outputs": [
    {
     "name": "stdout",
     "output_type": "stream",
     "text": [
      "Counter({'a': 3, 'c': 1})\n",
      "Counter({'a': 1, 'b': 1})\n",
      "Counter({'a': 1})\n",
      "Counter({'a': 2, 'c': 2})\n"
     ]
    }
   ],
   "source": [
    "# arithmetic operations\n",
    "c1 = Counter(a=2, b=0, c=-1)\n",
    "c2 = Counter(a=1, b=-1, c=2)\n",
    "\n",
    "c = c1 + c2  # return items having +ve count only\n",
    "print(c)\n",
    "\n",
    "c = c1 - c2  # keeps only +ve count elements\n",
    "print(c)\n",
    "\n",
    "c = c1 & c2  # intersection min(c1[x], c2[x])\n",
    "print(c)\n",
    "\n",
    "c = c1 | c2  # union max(c1[x], c2[x])\n",
    "print(c)"
   ]
  },
  {
   "cell_type": "markdown",
   "metadata": {},
   "source": [
    "## Class"
   ]
  },
  {
   "cell_type": "code",
   "execution_count": 9,
   "metadata": {},
   "outputs": [],
   "source": [
    "class Employee(object):\n",
    "    def __init__(self, first, last):\n",
    "        self.first_name = first\n",
    "        self.last_name = last\n",
    "        \n",
    "    def print_name(self):\n",
    "        print(self.first_name, self.last_name)"
   ]
  },
  {
   "cell_type": "code",
   "execution_count": 10,
   "metadata": {},
   "outputs": [
    {
     "name": "stdout",
     "output_type": "stream",
     "text": [
      "Kevin Webb\n"
     ]
    }
   ],
   "source": [
    "kw = Employee(\"Kevin\",\"Webb\")\n",
    "kw.print_name()"
   ]
  },
  {
   "cell_type": "markdown",
   "metadata": {},
   "source": [
    "## Class Inheritance"
   ]
  },
  {
   "cell_type": "code",
   "execution_count": 11,
   "metadata": {},
   "outputs": [],
   "source": [
    "class VicePresident(Employee):\n",
    "    def __init__(self, fname, lname, year):\n",
    "        super().__init__(fname, lname)\n",
    "        self.year = year\n",
    "    \n",
    "    def print_name_and_year(self):\n",
    "        print(self.first_name, self.last_name, self.year)"
   ]
  },
  {
   "cell_type": "code",
   "execution_count": 12,
   "metadata": {},
   "outputs": [
    {
     "name": "stdout",
     "output_type": "stream",
     "text": [
      "Kevin Webb\n",
      "Kevin Webb 2017\n"
     ]
    }
   ],
   "source": [
    "vp = VicePresident(\"Kevin\", \"Webb\", 2017)\n",
    "vp.print_name()\n",
    "vp.print_name_and_year()"
   ]
  },
  {
   "cell_type": "markdown",
   "metadata": {},
   "source": [
    "## Trees and Graphs"
   ]
  },
  {
   "cell_type": "code",
   "execution_count": 13,
   "metadata": {},
   "outputs": [],
   "source": [
    "# Binary tree node\n",
    "\n",
    "class Node(object):\n",
    "    def __init__(self,value):\n",
    "        self.value = value\n",
    "        self.left = None\n",
    "        self.right = None"
   ]
  },
  {
   "cell_type": "code",
   "execution_count": 14,
   "metadata": {},
   "outputs": [],
   "source": [
    "# For the purpose of interview questions, do not use a Tree class\n",
    "\n",
    "class Tree(object):\n",
    "    def __init__(self, root):\n",
    "        self.root = root"
   ]
  },
  {
   "cell_type": "markdown",
   "metadata": {},
   "source": [
    "### In-Order Traversal\n",
    "\n",
    "left branch -> current node -> right branch"
   ]
  },
  {
   "cell_type": "code",
   "execution_count": 15,
   "metadata": {},
   "outputs": [],
   "source": [
    "def inOrderTraversal(node):\n",
    "    if node:\n",
    "        inOrderTraversal(node.left)\n",
    "        print(node.value)\n",
    "        inOrderTraversal(node.right)"
   ]
  },
  {
   "cell_type": "code",
   "execution_count": 16,
   "metadata": {},
   "outputs": [
    {
     "name": "stdout",
     "output_type": "stream",
     "text": [
      "1\n",
      "2\n",
      "3\n",
      "4\n",
      "5\n"
     ]
    }
   ],
   "source": [
    "tree = Node(4)\n",
    "tree.left = Node(2)\n",
    "tree.right = Node(5)\n",
    "tree.left.left = Node(1)\n",
    "tree.left.right = Node(3)\n",
    "\n",
    "'''\n",
    "    4\n",
    "   / \\\n",
    "  2   5\n",
    " / \\\n",
    "1   3\n",
    "'''\n",
    "\n",
    "inOrderTraversal(tree)"
   ]
  },
  {
   "cell_type": "markdown",
   "metadata": {},
   "source": [
    "### Level-Order Traversal"
   ]
  },
  {
   "cell_type": "code",
   "execution_count": 17,
   "metadata": {},
   "outputs": [],
   "source": [
    "def levelOrder(node):\n",
    "    queue = []\n",
    "    queue.append(node)\n",
    "    while (len(queue) > 0):\n",
    "        print(queue[0].value)\n",
    "        node = queue.pop(0)\n",
    "        if node.left:\n",
    "            queue.append(node.left)\n",
    "        if node.right:\n",
    "            queue.append(node.right)"
   ]
  },
  {
   "cell_type": "code",
   "execution_count": 18,
   "metadata": {},
   "outputs": [
    {
     "name": "stdout",
     "output_type": "stream",
     "text": [
      "4\n",
      "2\n",
      "5\n",
      "1\n",
      "3\n"
     ]
    }
   ],
   "source": [
    "levelOrder(tree)"
   ]
  },
  {
   "cell_type": "markdown",
   "metadata": {},
   "source": [
    "### Tree Height / Depth"
   ]
  },
  {
   "cell_type": "markdown",
   "metadata": {},
   "source": [
    "As properties of a node:\n",
    "- The depth of a node is the number of edges from the node to the tree's root node.\n",
    "  - A root node will have a depth of 0.\n",
    "- The height of a node is the number of edges on the longest path from the node to a leaf.\n",
    "  - A leaf node will have a height of 0.\n",
    "\n",
    "As properties of a tree:\n",
    "- The height of a tree would be the height of its root node,\n",
    "  - or equivalently, the depth of its deepest node.\n",
    "- The diameter (or width) of a tree is the number of nodes on the longest path between any two leaf nodes."
   ]
  },
  {
   "cell_type": "code",
   "execution_count": 19,
   "metadata": {},
   "outputs": [],
   "source": [
    "def treeHeight(node):\n",
    "    if node:\n",
    "        left_h = treeHeight(node.left)\n",
    "        right_h = treeHeight(node.right)\n",
    "        return 1+max(left_h,right_h)\n",
    "    else:\n",
    "        return -1"
   ]
  },
  {
   "cell_type": "code",
   "execution_count": 20,
   "metadata": {},
   "outputs": [
    {
     "data": {
      "text/plain": [
       "2"
      ]
     },
     "execution_count": 20,
     "metadata": {},
     "output_type": "execute_result"
    }
   ],
   "source": [
    "treeHeight(tree)"
   ]
  },
  {
   "cell_type": "markdown",
   "metadata": {},
   "source": [
    "## Graph"
   ]
  },
  {
   "cell_type": "code",
   "execution_count": 21,
   "metadata": {},
   "outputs": [],
   "source": [
    "'''\n",
    "a - b - c\n",
    "'''\n",
    "\n",
    "graph = {\n",
    "    \"a\":[\"b\"],\n",
    "    \"b\":[\"a\",\"c\"],\n",
    "    \"c\":[\"b\"]\n",
    "}"
   ]
  },
  {
   "cell_type": "code",
   "execution_count": 22,
   "metadata": {},
   "outputs": [],
   "source": [
    "def getVertices(graph):\n",
    "    return list(graph.keys())\n",
    "\n",
    "def getEdges(graph):\n",
    "    edges = []\n",
    "    for vertex in graph.keys():\n",
    "        for neighbor in graph[vertex]:\n",
    "            if {neighbor, vertex} not in edges:\n",
    "                edges.append({neighbor, vertex})\n",
    "    return edges"
   ]
  },
  {
   "cell_type": "code",
   "execution_count": 23,
   "metadata": {},
   "outputs": [
    {
     "data": {
      "text/plain": [
       "['a', 'b', 'c']"
      ]
     },
     "execution_count": 23,
     "metadata": {},
     "output_type": "execute_result"
    }
   ],
   "source": [
    "getVertices(graph)"
   ]
  },
  {
   "cell_type": "code",
   "execution_count": 24,
   "metadata": {},
   "outputs": [
    {
     "data": {
      "text/plain": [
       "[{'a', 'b'}, {'b', 'c'}]"
      ]
     },
     "execution_count": 24,
     "metadata": {},
     "output_type": "execute_result"
    }
   ],
   "source": [
    "getEdges(graph)"
   ]
  }
 ],
 "metadata": {
  "kernelspec": {
   "display_name": "Python 3",
   "language": "python",
   "name": "python3"
  },
  "language_info": {
   "codemirror_mode": {
    "name": "ipython",
    "version": 3
   },
   "file_extension": ".py",
   "mimetype": "text/x-python",
   "name": "python",
   "nbconvert_exporter": "python",
   "pygments_lexer": "ipython3",
   "version": "3.7.4"
  }
 },
 "nbformat": 4,
 "nbformat_minor": 4
}
